{
  "cells": [
    {
      "cell_type": "markdown",
      "id": "7e7a1ab8-2599-417d-9a65-25ef07f3a786",
      "metadata": {
        "id": "7e7a1ab8-2599-417d-9a65-25ef07f3a786"
      },
      "source": [
        "# Lab | Web Scraping"
      ]
    },
    {
      "cell_type": "markdown",
      "id": "ce8882fc-4815-4567-92fa-b4816358ba7d",
      "metadata": {
        "id": "ce8882fc-4815-4567-92fa-b4816358ba7d"
      },
      "source": [
        "Welcome to the \"Books to Scrape\" Web Scraping Adventure Lab!\n",
        "\n",
        "**Objective**\n",
        "\n",
        "In this lab, we will embark on a mission to unearth valuable insights from the data available on Books to Scrape, an online platform showcasing a wide variety of books. As data analyst, you have been tasked with scraping a specific subset of book data from Books to Scrape to assist publishing companies in understanding the landscape of highly-rated books across different genres. Your insights will help shape future book marketing strategies and publishing decisions.\n",
        "\n",
        "**Background**\n",
        "\n",
        "In a world where data has become the new currency, businesses are leveraging big data to make informed decisions that drive success and profitability. The publishing industry, much like others, utilizes data analytics to understand market trends, reader preferences, and the performance of books based on factors such as genre, author, and ratings. Books to Scrape serves as a rich source of such data, offering detailed information about a diverse range of books, making it an ideal platform for extracting insights to aid in informed decision-making within the literary world.\n",
        "\n",
        "**Task**\n",
        "\n",
        "Your task is to create a Python script using BeautifulSoup and pandas to scrape Books to Scrape book data, focusing on book ratings and genres. The script should be able to filter books with ratings above a certain threshold and in specific genres. Additionally, the script should structure the scraped data in a tabular format using pandas for further analysis.\n",
        "\n",
        "**Expected Outcome**\n",
        "\n",
        "A function named `scrape_books` that takes two parameters: `min_rating` and `max_price`. The function should scrape book data from the \"Books to Scrape\" website and return a `pandas` DataFrame with the following columns:\n",
        "\n",
        "**Expected Outcome**\n",
        "\n",
        "- A function named `scrape_books` that takes two parameters: `min_rating` and `max_price`.\n",
        "- The function should return a DataFrame with the following columns:\n",
        "  - **UPC**: The Universal Product Code (UPC) of the book.\n",
        "  - **Title**: The title of the book.\n",
        "  - **Price (£)**: The price of the book in pounds.\n",
        "  - **Rating**: The rating of the book (1-5 stars).\n",
        "  - **Genre**: The genre of the book.\n",
        "  - **Availability**: Whether the book is in stock or not.\n",
        "  - **Description**: A brief description or product description of the book (if available).\n",
        "  \n",
        "You will execute this script to scrape data for books with a minimum rating of `4.0 and above` and a maximum price of `£20`. \n",
        "\n",
        "Remember to experiment with different ratings and prices to ensure your code is versatile and can handle various searches effectively!\n",
        "\n",
        "**Resources**\n",
        "\n",
        "- [Beautiful Soup Documentation](https://www.crummy.com/software/BeautifulSoup/bs4/doc/)\n",
        "- [Pandas Documentation](https://pandas.pydata.org/pandas-docs/stable/index.html)\n",
        "- [Books to Scrape](https://books.toscrape.com/)\n"
      ]
    },
    {
      "cell_type": "markdown",
      "id": "3519921d-5890-445b-9a33-934ed8ee378c",
      "metadata": {
        "id": "3519921d-5890-445b-9a33-934ed8ee378c"
      },
      "source": [
        "**Hint**\n",
        "\n",
        "Your first mission is to familiarize yourself with the **Books to Scrape** website. Navigate to [Books to Scrape](http://books.toscrape.com/) and explore the available books to understand their layout and structure. \n",
        "\n",
        "Next, think about how you can set parameters for your data extraction:\n",
        "\n",
        "- **Minimum Rating**: Focus on books with a rating of 4.0 and above.\n",
        "- **Maximum Price**: Filter for books priced up to £20.\n",
        "\n",
        "After reviewing the site, you can construct a plan for scraping relevant data. Pay attention to the details displayed for each book, including the title, price, rating, and availability. This will help you identify the correct HTML elements to target with your scraping script.\n",
        "\n",
        "Make sure to build your scraping URL and logic based on the patterns you observe in the HTML structure of the book listings!"
      ]
    },
    {
      "cell_type": "markdown",
      "id": "25a83a0d-a742-49f6-985e-e27887cbf922",
      "metadata": {
        "id": "25a83a0d-a742-49f6-985e-e27887cbf922"
      },
      "source": [
        "\n",
        "---\n",
        "\n",
        "**Best of luck! Immerse yourself in the world of books, and may the data be with you!**"
      ]
    },
    {
      "cell_type": "markdown",
      "id": "7b75cf0d-9afa-4eec-a9e2-befeac68b2a0",
      "metadata": {
        "id": "7b75cf0d-9afa-4eec-a9e2-befeac68b2a0"
      },
      "source": [
        "**Important Note**:\n",
        "\n",
        "In the fast-changing online world, websites often update and change their structures. When you try this lab, the **Books to Scrape** website might differ from what you expect.\n",
        "\n",
        "If you encounter issues due to these changes, like new rules or obstacles preventing data extraction, don’t worry! Get creative.\n",
        "\n",
        "You can choose another website that interests you and is suitable for scraping data. Options like Wikipedia, The New York Times, or even library databases are great alternatives. The main goal remains the same: extract useful data and enhance your web scraping skills while exploring a source of information you enjoy. This is your opportunity to practice and adapt to different web environments!"
      ]
    },
    {
      "cell_type": "code",
      "execution_count": 2,
      "id": "40359eee-9cd7-4884-bfa4-83344c222305",
      "metadata": {
        "id": "40359eee-9cd7-4884-bfa4-83344c222305"
      },
      "outputs": [
        {
          "name": "stdout",
          "output_type": "stream",
          "text": [
            "Empty DataFrame\n",
            "Columns: []\n",
            "Index: []\n"
          ]
        }
      ],
      "source": [
        "import requests\n",
        "from bs4 import BeautifulSoup\n",
        "import pandas as pd\n",
        "import time\n",
        "import random\n",
        "\n",
        "# Function to scrape book data from the website\n",
        "def scrape_books(min_rating=4.0, max_price=20.0):\n",
        "    base_url = 'https://books.toscrape.com/catalogue/page-{}.html'\n",
        "    \n",
        "    books = []  # List to hold all the scraped books data\n",
        "    \n",
        "    # Iterate through pages (let's assume we can scrape up to page 50)\n",
        "    for page_num in range(1, 51):\n",
        "        url = base_url.format(page_num)\n",
        "        response = requests.get(url)\n",
        "        \n",
        "        if response.status_code != 200:\n",
        "            break  # Exit if the page is not found or there is an error\n",
        "        \n",
        "        soup = BeautifulSoup(response.text, 'html.parser')\n",
        "        \n",
        "        # Find all the book containers on the page\n",
        "        book_containers = soup.find_all('article', class_='product_pod')\n",
        "        \n",
        "        for book in book_containers:\n",
        "            # Extract the title of the book\n",
        "            title = book.find('h3').find('a')['title']\n",
        "            \n",
        "            # Extract the price of the book\n",
        "            price_str = book.find('p', class_='price_color').text.strip()\n",
        "            \n",
        "            # Remove the £ symbol and try to convert the price to a float\n",
        "            try:\n",
        "                price = float(price_str[1:])  # Strip the £ sign and convert to float\n",
        "            except ValueError:\n",
        "                continue  # If conversion fails, skip this book\n",
        "            \n",
        "            # Skip books that exceed the maximum price\n",
        "            if price > max_price:\n",
        "                continue\n",
        "            \n",
        "            # Extract the rating (convert from class name to numerical value)\n",
        "            rating_class = book.find('p', class_='star-rating')['class'][1]\n",
        "            rating_dict = {'One': 1, 'Two': 2, 'Three': 3, 'Four': 4, 'Five': 5}\n",
        "            rating = rating_dict.get(rating_class, 0)\n",
        "            \n",
        "            # Extract the genre (the genre is present in the URL of each book's detail page)\n",
        "            book_url = book.find('h3').find('a')['href']\n",
        "            book_detail_url = 'https://books.toscrape.com/catalogue/' + book_url.split('/')[2]\n",
        "            book_response = requests.get(book_detail_url)\n",
        "            book_soup = BeautifulSoup(book_response.text, 'html.parser')\n",
        "            genre = book_soup.find('ul', class_='breadcrumb').find_all('li')[2].text.strip()\n",
        "            \n",
        "            # Extract the availability of the book (in stock or not)\n",
        "            availability = book.find('p', class_='instock availability').text.strip()\n",
        "            \n",
        "            # Extract the description (if available)\n",
        "            try:\n",
        "                description = book_soup.find('meta', attrs={'name': 'description'})['content']\n",
        "            except TypeError:\n",
        "                description = 'No description available.'\n",
        "            \n",
        "            # Append the book data to the list\n",
        "            if rating >= min_rating and price <= max_price:\n",
        "                books.append({\n",
        "                    'UPC': book.find('td').text.strip(),\n",
        "                    'Title': title,\n",
        "                    'Price (£)': price,\n",
        "                    'Rating': rating,\n",
        "                    'Genre': genre,\n",
        "                    'Availability': availability,\n",
        "                    'Description': description\n",
        "                })\n",
        "        \n",
        "        # Sleep for a random amount of time (e.g., between 1 and 3 seconds) between requests\n",
        "        time.sleep(random.uniform(1, 3))\n",
        "    \n",
        "    # Convert the list of books data into a pandas DataFrame\n",
        "    df = pd.DataFrame(books)\n",
        "    return df\n",
        "\n",
        "# Example usage of the function\n",
        "df_books = scrape_books(min_rating=4.0, max_price=20.0)\n",
        "print(df_books.head())\n",
        "\n"
      ]
    }
  ],
  "metadata": {
    "colab": {
      "provenance": []
    },
    "kernelspec": {
      "display_name": "base",
      "language": "python",
      "name": "python3"
    },
    "language_info": {
      "codemirror_mode": {
        "name": "ipython",
        "version": 3
      },
      "file_extension": ".py",
      "mimetype": "text/x-python",
      "name": "python",
      "nbconvert_exporter": "python",
      "pygments_lexer": "ipython3",
      "version": "3.12.7"
    }
  },
  "nbformat": 4,
  "nbformat_minor": 5
}
